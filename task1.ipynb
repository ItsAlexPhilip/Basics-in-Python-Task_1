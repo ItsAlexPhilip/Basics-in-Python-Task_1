{
  "metadata": {
    "kernelspec": {
      "name": "python",
      "display_name": "Python (Pyodide)",
      "language": "python"
    },
    "language_info": {
      "codemirror_mode": {
        "name": "python",
        "version": 3
      },
      "file_extension": ".py",
      "mimetype": "text/x-python",
      "name": "python",
      "nbconvert_exporter": "python",
      "pygments_lexer": "ipython3",
      "version": "3.8"
    }
  },
  "nbformat_minor": 5,
  "nbformat": 4,
  "cells": [
    {
      "id": "beac4684-737b-4030-90e3-8c5b229c4e00",
      "cell_type": "code",
      "source": "#creating a set\nmy_set = {2,4,6,8,10}\n\n#adding\nmy_set.add(12)\n\n#removing\nmy_set.remove(6)\n\n#modify\nmy_set.discard(4)\nmy_set.add(14)\n\nprint(\"Updated set:\",my_set)\n",
      "metadata": {
        "trusted": true
      },
      "outputs": [
        {
          "name": "stdout",
          "text": "Updated set: {2, 8, 10, 12, 14}\n",
          "output_type": "stream"
        }
      ],
      "execution_count": 1
    },
    {
      "id": "d8e8d6a7-6730-454b-b97d-6125647116e0",
      "cell_type": "code",
      "source": "#creating my list\nmy_list = [2,4,6,8,10]\n\n#adding an element into the list\nmy_list.append(6)\n\n#removing an element from the list\nmy_list.remove(4)\n\n#modifying an element in the list\nmy_list[0] = 10\n\nprint(\"Updated list:\",my_list)",
      "metadata": {
        "trusted": true
      },
      "outputs": [
        {
          "name": "stdout",
          "text": "Updated list: [10, 6, 8, 10, 6]\n",
          "output_type": "stream"
        }
      ],
      "execution_count": 4
    },
    {
      "id": "521f411d-9872-4b39-a3aa-90cf46c93558",
      "cell_type": "code",
      "source": "#creating a dictionary\nmy_dict = {'name':'Lionel Andres Messi','age':36,'city':'Barcelona'}\n\n#adding\nmy_dict['Ballon d Or'] = 8\n\n#removing\ndel my_dict['age']\n\n#modify\nmy_dict['Barcelona'] = 'Miami'\n\nprint(\"Updated dictionary:\",my_dict)",
      "metadata": {
        "trusted": true
      },
      "outputs": [
        {
          "name": "stdout",
          "text": "Updated dictionary: {'name': 'Lionel Andres Messi', 'city': 'Barcelona', 'Ballon d Or': 8, 'Barcelona': 'Miami'}\n",
          "output_type": "stream"
        }
      ],
      "execution_count": 9
    },
    {
      "id": "44a985de-ff5d-44be-bf03-11259d969371",
      "cell_type": "code",
      "source": "",
      "metadata": {
        "trusted": true
      },
      "outputs": [],
      "execution_count": null
    }
  ]
}